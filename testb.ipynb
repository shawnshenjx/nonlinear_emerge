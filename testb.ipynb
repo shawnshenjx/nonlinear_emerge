{
 "cells": [
  {
   "cell_type": "code",
   "execution_count": 37,
   "metadata": {},
   "outputs": [
    {
     "name": "stdout",
     "output_type": "stream",
     "text": [
      "      Value Type\n",
      "0  1.159220    E\n",
      "1  0.273739    E\n",
      "2  1.191327    E\n",
      "3  0.541230    E\n",
      "4  1.433500    E\n",
      "5  1.023746    E\n",
      "6  0.681811    E\n",
      "7  0.923138    E\n",
      "8  1.915352    E\n",
      "9  0.721976    E\n",
      "0 -0.696641    I\n",
      "1 -0.816428    I\n",
      "2 -1.257214    I\n",
      "3 -0.009324    I\n",
      "4 -1.318780    I\n",
      "5 -0.925544    I\n",
      "6 -0.829488    I\n",
      "7 -1.097510    I\n",
      "8 -2.374317    I\n",
      "9 -0.575203    I       Value Type\n",
      "9 -0.575203    I\n",
      "1  0.273739    E\n",
      "7 -1.097510    I\n",
      "4  1.433500    E\n",
      "9  0.721976    E\n",
      "8  1.915352    E\n",
      "4 -1.318780    I\n",
      "3  0.541230    E\n",
      "6  0.681811    E\n",
      "5 -0.925544    I\n",
      "2  1.191327    E\n",
      "1 -0.816428    I\n",
      "8 -2.374317    I\n",
      "2 -1.257214    I\n",
      "3 -0.009324    I\n",
      "6 -0.829488    I\n",
      "7  0.923138    E\n",
      "0 -0.696641    I\n",
      "0  1.159220    E\n",
      "5  1.023746    E\n"
     ]
    }
   ],
   "source": [
    "\n",
    "import torch\n",
    "import torch.optim as optim\n",
    "import torch.nn as nn\n",
    "import numpy as np\n",
    "import math\n",
    "import matplotlib.pyplot as plt\n",
    "import pandas as pd\n",
    "#df = pd.DataFrame({'value':np.series(torch.randn(1,),index=list(range(10)),\n",
    "                # 'Type':'E')})\n",
    "ze = pd.DataFrame({'Value': np.absolute(np.array(np.random.normal(0, 1, 10))),\n",
    "                    'Type': 'E'})    \n",
    "\n",
    "\n",
    "zi = pd.DataFrame({'Value': -np.absolute(np.array(np.random.normal(0, 1, 10))),\n",
    "                    'Type': 'I'})    \n",
    "\n",
    "zf = pd.concat([ze, zi])\n",
    "ze = zf.sample(frac=1)\n",
    "\n",
    "    \n",
    "\n",
    "print (zf,ze)"
   ]
  },
  {
   "cell_type": "code",
   "execution_count": 26,
   "metadata": {},
   "outputs": [
    {
     "name": "stdout",
     "output_type": "stream",
     "text": [
      "[-2.49183218 -2.19528405  0.68307422]\n"
     ]
    }
   ],
   "source": [
    "print (np.random.normal(0, 1, 3))"
   ]
  }
 ],
 "metadata": {
  "kernelspec": {
   "display_name": "Python 3",
   "language": "python",
   "name": "python3"
  },
  "language_info": {
   "codemirror_mode": {
    "name": "ipython",
    "version": 3
   },
   "file_extension": ".py",
   "mimetype": "text/x-python",
   "name": "python",
   "nbconvert_exporter": "python",
   "pygments_lexer": "ipython3",
   "version": "3.7.1"
  }
 },
 "nbformat": 4,
 "nbformat_minor": 2
}
