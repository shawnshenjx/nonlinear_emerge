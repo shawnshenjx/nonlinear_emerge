{
 "cells": [
  {
   "cell_type": "code",
   "execution_count": 30,
   "metadata": {},
   "outputs": [],
   "source": [
    "\n",
    "import torch\n",
    "import torch.optim as optim\n",
    "import torch.nn as nn\n",
    "import numpy as np\n",
    "import math\n",
    "import matplotlib.pyplot as plt\n",
    "import pandas as pd\n",
    "n=6\n",
    "\n",
    "torch.manual_seed(42)\n",
    "#p = torch.tensor([10,8,6],dtype=torch.float)\n",
    "#p1=torch.diag(p)\n",
    "\n",
    "n=6\n",
    "tao=100\n",
    "dt = 1e-3\n",
    "T=int(10/dt)\n",
    "B=10\n",
    "w=torch.randn(n,n, device='cpu', requires_grad=True,dtype=torch.float)\n",
    "lr = 1e-1\n",
    "n_epochs = 1000\n",
    "\n",
    "\n",
    "ze = pd.DataFrame({'Value': torch.from_numpy(np.absolute(np.array(np.random.normal(0, 1, math.ceil(n/2))))),\n",
    "                    'Type': 'E',\n",
    "                    'sign': np.array([1] * math.ceil(n/2), dtype='int32'),\n",
    "                   'penalty':torch.tensor(np.absolute(np.random.randint(low=1, high=100, size=math.ceil(n/2))))\n",
    "                    })  \n",
    "     #generate a panda dataframe consists the values and class I of the neuron, assign -1 to the data \n",
    "zi = pd.DataFrame({'Value': torch.from_numpy(-np.absolute(np.array(np.random.normal(0, 1, round(n/2))))),\n",
    "                    'Type': 'I',\n",
    "                    'sign': np.array([-1] * round(n/2), dtype='int32'),\n",
    "                   'penalty':torch.tensor(np.array([1] * int(round(n/2))))\n",
    "                   })   \n",
    "    #join E neurons and I neuronns \n",
    "zf = pd.concat([ze, zi])\n",
    "    #mix the joint population \n",
    "zd = zf.sample(frac=1).reset_index(drop=True)\n",
    "    #convert the panda dataframe to a tensor \n",
    "z=torch.zeros(1,n)\n",
    "#p=torch.zeros(1,n)\n",
    "p=np.zeros(n)\n",
    "for d in range(n):\n",
    "    z[:,d]=(zd.loc[d,'Value'])\n",
    "    \n",
    "for e in range(n):\n",
    "    p[e]=(zd.loc[e,'penalty'])        \n",
    "    #print(z,w)\n",
    "    #create a new tensor to prevent the leaf variable go into the learning process  \n",
    "p2=torch.tensor(p)\n",
    "p3=torch.diag(p2)\n",
    "p1=p3.type(dtype=torch.float)\n",
    "wi=torch.randn(n,n)\n",
    "for i in range(n):\n",
    "    for j in range(n):\n",
    "            #print (z.loc[j,'sign'])\n",
    "            #print (w[i,j])\n",
    "        wi[i,j]=(zd.loc[j,'sign'])*w[i,j]\n",
    "            #print (w[i,j])\n",
    "    \n",
    "w1=torch.diag(wi)\n",
    "w_rec=torch.diag(w1)\n",
    "w1_rec = wi-w_rec\n",
    "    #print (w1_rec)\n",
    "    \n",
    "   "
   ]
  },
  {
   "cell_type": "code",
   "execution_count": 32,
   "metadata": {},
   "outputs": [
    {
     "name": "stdout",
     "output_type": "stream",
     "text": [
      "tensor([[ 1.,  0.,  0.,  0.,  0.,  0.],\n",
      "        [ 0.,  1.,  0.,  0.,  0.,  0.],\n",
      "        [ 0.,  0., 20.,  0.,  0.,  0.],\n",
      "        [ 0.,  0.,  0.,  1.,  0.,  0.],\n",
      "        [ 0.,  0.,  0.,  0., 78.,  0.],\n",
      "        [ 0.,  0.,  0.,  0.,  0., 93.]])\n"
     ]
    }
   ],
   "source": [
    "print (p1)\n"
   ]
  }
 ],
 "metadata": {
  "kernelspec": {
   "display_name": "Python 3",
   "language": "python",
   "name": "python3"
  },
  "language_info": {
   "codemirror_mode": {
    "name": "ipython",
    "version": 3
   },
   "file_extension": ".py",
   "mimetype": "text/x-python",
   "name": "python",
   "nbconvert_exporter": "python",
   "pygments_lexer": "ipython3",
   "version": "3.7.1"
  }
 },
 "nbformat": 4,
 "nbformat_minor": 2
}
