{
 "cells": [
  {
   "cell_type": "code",
   "execution_count": 102,
   "metadata": {},
   "outputs": [
    {
     "name": "stdout",
     "output_type": "stream",
     "text": [
      "tensor([[ 1.6811, -0.9059,  0.3573, -0.4640,  0.1727,  2.2083,  1.0390,  1.2040,\n",
      "          0.7376, -0.0707,  0.8545,  0.8118, -0.5464, -0.1826, -0.8850, -2.0146,\n",
      "          0.9651, -1.0944,  0.8438, -0.6582]]) tensor([-0.9059])\n"
     ]
    }
   ],
   "source": [
    "\n",
    "import torch\n",
    "import torch.optim as optim\n",
    "import torch.nn as nn\n",
    "import numpy as np\n",
    "import math\n",
    "import matplotlib.pyplot as plt\n",
    "import pandas as pd\n",
    "n=20\n",
    "w=torch.randn(n,n, device='cpu', requires_grad=True,dtype=torch.float)\n",
    "ze = pd.DataFrame({'Value': torch.from_numpy(np.absolute(np.array(np.random.normal(0, 1, 10)))),\n",
    "                    'Type': 'E',\n",
    "                    'sign': np.array([1] * 10, dtype='int32')})    \n",
    "\n",
    "\n",
    "zi = pd.DataFrame({'Value': torch.from_numpy(-np.absolute(np.array(np.random.normal(0, 1, 10)))),\n",
    "                    'Type': 'I',\n",
    "                    'sign': np.array([-1] * 10, dtype='int32')})    \n",
    "\n",
    "zf = pd.concat([ze, zi])\n",
    "zd = zf.sample(frac=1).reset_index(drop=True)\n",
    "z=torch.randn(1,20)\n",
    "print (z,z[:,1])\n",
    "\n",
    "\n",
    "\n",
    "for a in range(19):\n",
    "    #print (zd.loc[a,'Value'])\n",
    "    z[:a]=(zd.loc[a,'Value'])\n",
    "        \n",
    "#print (z,zd)\n",
    "\n",
    "for i in range(19):\n",
    "    for j in range(19):\n",
    "        #print (zd.loc[j,'sign'])\n",
    "        #print (w[i,j])\n",
    "        w[i,j]=(zd.loc[j,'sign'])*w[i,j]\n",
    "        #print (w[i,j])\n",
    "        \n",
    "        \n",
    "\n",
    "\n"
   ]
  },
  {
   "cell_type": "code",
   "execution_count": 94,
   "metadata": {},
   "outputs": [
    {
     "name": "stdout",
     "output_type": "stream",
     "text": [
      "2\n"
     ]
    }
   ],
   "source": [
    "x = np.array([0, 1, 2, 3, 4, 5, 6, 7, 8, 9])\n",
    "print (x[2])"
   ]
  },
  {
   "cell_type": "code",
   "execution_count": 80,
   "metadata": {},
   "outputs": [
    {
     "name": "stdout",
     "output_type": "stream",
     "text": [
      "tensor([[-1.0010,  0.2334, -1.3192],\n",
      "        [-0.9127, -0.3163, -0.0831],\n",
      "        [ 1.0572, -0.4791,  0.2192]], requires_grad=True) tensor(-0.0831, grad_fn=<SelectBackward>)\n"
     ]
    }
   ],
   "source": [
    "n=3\n",
    "w=torch.randn(n,n, device='cpu', requires_grad=True,dtype=torch.float)\n",
    "print (w,w[1,2])"
   ]
  },
  {
   "cell_type": "code",
   "execution_count": 26,
   "metadata": {},
   "outputs": [
    {
     "name": "stdout",
     "output_type": "stream",
     "text": [
      "[-2.49183218 -2.19528405  0.68307422]\n"
     ]
    }
   ],
   "source": [
    "print (np.random.normal(0, 1, 3))"
   ]
  },
  {
   "cell_type": "code",
   "execution_count": 56,
   "metadata": {},
   "outputs": [
    {
     "name": "stdout",
     "output_type": "stream",
     "text": [
      "       Value Type\n",
      "0  -1.320661    I\n",
      "1   0.906878    E\n",
      "2   0.223871    E\n",
      "3   0.259332    E\n",
      "4   0.084434    E\n",
      "5  -0.977689    I\n",
      "6  -2.386828    I\n",
      "7  -0.713555    I\n",
      "8  -1.419269    I\n",
      "9  -0.407654    I\n",
      "10  0.011105    E\n",
      "11 -0.916832    I\n",
      "12  0.523302    E\n",
      "13  1.778927    E\n",
      "14 -0.858458    I\n",
      "15  2.553070    E\n",
      "16 -0.105432    I\n",
      "17  0.665925    E\n",
      "18  0.584413    E\n",
      "19 -0.144292    I <pandas.core.indexing._iLocIndexer object at 0x11a8bb2c8>\n"
     ]
    }
   ],
   "source": [
    "print (ze,ze.iloc(1))"
   ]
  }
 ],
 "metadata": {
  "kernelspec": {
   "display_name": "Python 3",
   "language": "python",
   "name": "python3"
  },
  "language_info": {
   "codemirror_mode": {
    "name": "ipython",
    "version": 3
   },
   "file_extension": ".py",
   "mimetype": "text/x-python",
   "name": "python",
   "nbconvert_exporter": "python",
   "pygments_lexer": "ipython3",
   "version": "3.7.1"
  }
 },
 "nbformat": 4,
 "nbformat_minor": 2
}
