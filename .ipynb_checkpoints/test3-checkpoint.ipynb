{
 "cells": [
  {
   "cell_type": "code",
   "execution_count": 19,
   "metadata": {},
   "outputs": [
    {
     "name": "stdout",
     "output_type": "stream",
     "text": [
      "tensor([[ 1.9269,  1.4873,  0.9007, -2.1055,  0.6784],\n",
      "        [-1.2345, -0.0431, -1.6047, -0.7521, -0.6866],\n",
      "        [-0.4934,  0.2415, -1.1109,  0.0915, -2.3169],\n",
      "        [-0.2168, -1.3847, -0.3957,  0.8034, -0.6216],\n",
      "        [-0.5920, -0.0631, -0.8286,  0.3309, -1.5576]], requires_grad=True) tensor([[ 0.0000,  1.4873,  0.9007, -2.1055,  0.6784],\n",
      "        [-1.2345,  0.0000, -1.6047, -0.7521, -0.6866],\n",
      "        [-0.4934,  0.2415,  0.0000,  0.0915, -2.3169],\n",
      "        [-0.2168, -1.3847, -0.3957,  0.0000, -0.6216],\n",
      "        [-0.5920, -0.0631, -0.8286,  0.3309,  0.0000]], grad_fn=<SubBackward0>)\n"
     ]
    },
    {
     "data": {
      "image/png": "[encoded data removed]",
      "text/plain": [
       "<Figure size 432x288 with 1 Axes>"
      ]
     },
     "metadata": {
      "needs_background": "light"
     },
     "output_type": "display_data"
    },
    {
     "name": "stdout",
     "output_type": "stream",
     "text": [
      "tensor([[ 1.9198,  1.4873,  0.9007, -2.1055,  0.6784],\n",
      "        [-1.2345, -0.0515, -1.6047, -0.7521, -0.6866],\n",
      "        [-0.4934,  0.2415, -1.1203,  0.0915, -2.3169],\n",
      "        [-0.2168, -1.3847, -0.3957,  0.7946, -0.6216],\n",
      "        [-0.5920, -0.0631, -0.8286,  0.3309, -1.5670]], requires_grad=True) tensor([[ 0.0000,  1.4873,  0.9007, -2.1055,  0.6784],\n",
      "        [-1.2345,  0.0000, -1.6047, -0.7521, -0.6866],\n",
      "        [-0.4934,  0.2415,  0.0000,  0.0915, -2.3169],\n",
      "        [-0.2168, -1.3847, -0.3957,  0.0000, -0.6216],\n",
      "        [-0.5920, -0.0631, -0.8286,  0.3309,  0.0000]], grad_fn=<SubBackward0>)\n",
      "tensor([[0.5284],\n",
      "        [0.4685],\n",
      "        [0.5479],\n",
      "        [0.3294],\n",
      "        [0.8780]], grad_fn=<CopySlices>)\n",
      "tensor([[0.3553],\n",
      "        [1.0477],\n",
      "        [0.7506],\n",
      "        [0.6150],\n",
      "        [0.3849]], grad_fn=<CopySlices>)\n",
      "tensor([[0.2900],\n",
      "        [0.3932],\n",
      "        [0.3863],\n",
      "        [0.2816],\n",
      "        [0.3037]], grad_fn=<CopySlices>)\n",
      "tensor([[0.4695],\n",
      "        [0.5441],\n",
      "        [0.3532],\n",
      "        [1.2164],\n",
      "        [0.5451]], grad_fn=<CopySlices>)\n",
      "tensor([[0.3122],\n",
      "        [0.3972],\n",
      "        [0.4419],\n",
      "        [0.8861],\n",
      "        [0.5952]], grad_fn=<CopySlices>)\n",
      "tensor([[0.5075],\n",
      "        [0.4808],\n",
      "        [0.3268],\n",
      "        [0.5125],\n",
      "        [0.3573]], grad_fn=<CopySlices>)\n",
      "tensor([[0.6270],\n",
      "        [0.6313],\n",
      "        [0.8694],\n",
      "        [0.7300],\n",
      "        [1.1419]], grad_fn=<CopySlices>)\n",
      "tensor([[0.3224],\n",
      "        [0.6787],\n",
      "        [0.9663],\n",
      "        [0.3622],\n",
      "        [0.5939]], grad_fn=<CopySlices>)\n"
     ]
    },
    {
     "data": {
      "image/png": "[encoded data removed]",
      "text/plain": [
       "<Figure size 432x288 with 1 Axes>"
      ]
     },
     "metadata": {
      "needs_background": "light"
     },
     "output_type": "display_data"
    }
   ],
   "source": [
    "import torch\n",
    "import torch.optim as optim\n",
    "import torch.nn as nn\n",
    "import numpy as np\n",
    "import math\n",
    "import matplotlib.pyplot as plt\n",
    "import pandas as pd\n",
    "\n",
    "torch.manual_seed(42)\n",
    "p = torch.tensor([10,8,6,4,2],dtype=torch.float)\n",
    "p1=torch.diag(p)\n",
    "n=5\n",
    "tao=100\n",
    "dt = 1e-3\n",
    "T=int(10/dt)\n",
    "B=10\n",
    "w=torch.randn(n,n, device='cpu', requires_grad=True,dtype=torch.float)\n",
    "w1=torch.diag(w)\n",
    "w_rec=torch.diag(w1)\n",
    "w1_rec = w-w_rec\n",
    "lr = 1e-3\n",
    "n_epochs = 10\n",
    "optimizer = optim.Adam([w], lr=lr)\n",
    "V=torch.zeros(T,n)\n",
    "ep=np.arange(n_epochs)\n",
    "Loss=torch.zeros(n_epochs,)\n",
    "print (w,w1_rec，w_rec)\n",
    "for epoch in range(n_epochs):\n",
    "    z=torch.randn(1,n)\n",
    "    loss=0\n",
    "    for t in range(T):\n",
    "        N=torch.randn(1,n)\n",
    "        z_dot=(-z+(z@w_rec)/math.sqrt(n))\n",
    "        z = z + z_dot*dt+N*math.sqrt(dt)\n",
    "        loss = loss + ((z@p1)**2).mean()\n",
    "    \n",
    "    \n",
    "    loss.backward()       \n",
    "    optimizer.step()\n",
    "    optimizer.zero_grad()\n",
    "    Loss[epoch]=loss\n",
    " \n",
    "plt.plot(ep,Loss.detach().numpy())\n",
    "plt.show()\n",
    "\n",
    "\n",
    "print (w,w1_rec,w_rec)\n",
    "\n",
    "color=['b','c','k','g','w','m','r','y']\n",
    "for a in range(8):\n",
    "    z=torch.randn(1,n)\n",
    "    Z=torch.zeros(T,n)\n",
    "    for t in range(T):\n",
    "        N=torch.randn(1,n)\n",
    "        z_dot=(-z+(z@w1_rec)/math.sqrt(n))\n",
    "        z = z + z_dot*dt+N*math.sqrt(dt)\n",
    "        #q= int(t-T/2)\n",
    "        Z[t] = z\n",
    "        Z_split = torch.split(Z,int(T/2),dim=1)\n",
    "        \n",
    "  \n",
    "    V=torch.zeros(n,1)\n",
    "\n",
    "    for i in range(n):\n",
    "        V[i]=torch.var(Z[:,i])\n",
    "    print (V)\n",
    "    \n",
    "    plt.scatter(p,V.detach().numpy(),color=color[a])\n",
    "    \n",
    "\n",
    "\n",
    "                \n",
    "plt.show()  \n",
    "\n",
    "\n",
    "\n",
    "    \n",
    "    \n",
    "#plt.plot(p,V.detach().numpy(), 'r--', p, V2.detach().numpy(), 'bs', p, V.detach().numpy(), 'g^')\n",
    "#plt.show()\n",
    "\n",
    "\n",
    "\n",
    "\n"
   ]
  },
  {
   "cell_type": "code",
   "execution_count": 5,
   "metadata": {},
   "outputs": [
    {
     "name": "stdout",
     "output_type": "stream",
     "text": [
      "tensor([[0.7681, 0.2223, 0.8163, 0.8147, 0.5370]]) tensor([], size=(0, 5))\n"
     ]
    }
   ],
   "source": [
    "import torch\n",
    "x = torch.rand(1, 5)\n",
    "print (x,x[3:5])"
   ]
  },
  {
   "cell_type": "code",
   "execution_count": 9,
   "metadata": {},
   "outputs": [
    {
     "name": "stdout",
     "output_type": "stream",
     "text": [
      "[tensor([[ 1.0190,  1.9208, -1.3950, -1.5837, -0.4988, -0.2477,  0.8223,  1.8248]])]\n"
     ]
    }
   ],
   "source": [
    "a = torch.randn(1, 8) #tensor of size 50 x 80\n",
    "b = torch.split(a, 40, dim=1) # it returns a tuple\n",
    "b = list(b)\n",
    "print (b)"
   ]
  },
  {
   "cell_type": "code",
   "execution_count": 21,
   "metadata": {},
   "outputs": [
    {
     "data": {
      "text/plain": [
       "[<matplotlib.lines.Line2D at 0x11e0b9630>]"
      ]
     },
     "execution_count": 21,
     "metadata": {},
     "output_type": "execute_result"
    },
    {
     "data": {
      "image/png": "[encoded data removed]",
      "text/plain": [
       "<Figure size 432x288 with 1 Axes>"
      ]
     },
     "metadata": {
      "needs_background": "light"
     },
     "output_type": "display_data"
    }
   ],
   "source": [
    "import pandas as pd\n",
    "\n",
    "df=pd.DataFrame(Loss.detach().numpy())\n",
    "rolling_mean = df.rolling(window=3).mean()\n",
    "plt.plot(ep, rolling_mean, label='Learning Curve', color='k')\n"
   ]
  }
 ],
 "metadata": {
  "kernelspec": {
   "display_name": "Python 3",
   "language": "python",
   "name": "python3"
  },
  "language_info": {
   "codemirror_mode": {
    "name": "ipython",
    "version": 3
   },
   "file_extension": ".py",
   "mimetype": "text/x-python",
   "name": "python",
   "nbconvert_exporter": "python",
   "pygments_lexer": "ipython3",
   "version": "3.7.1"
  }
 },
 "nbformat": 4,
 "nbformat_minor": 2
}
