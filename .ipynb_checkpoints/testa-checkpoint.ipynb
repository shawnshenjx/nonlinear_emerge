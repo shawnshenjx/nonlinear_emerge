{
 "cells": [
  {
   "cell_type": "code",
   "execution_count": 38,
   "metadata": {},
   "outputs": [
    {
     "name": "stdout",
     "output_type": "stream",
     "text": [
      "      Value Type\n",
      "0  0.863612    E\n",
      "1  1.458857    E\n",
      "2  0.338888    E\n",
      "3  0.245906    E\n",
      "4  2.354784    E\n",
      "5  0.841443    E\n",
      "6  0.304993    E\n",
      "7  1.591296    E\n",
      "8  0.089473    E\n",
      "9  0.136711    E\n",
      "0 -0.716860    I\n",
      "1 -2.172274    I\n",
      "2 -0.059021    I\n",
      "3 -2.707186    I\n",
      "4 -1.310170    I\n",
      "5 -0.554455    I\n",
      "6 -1.096005    I\n",
      "7 -0.430547    I\n",
      "8 -0.870629    I\n",
      "9 -0.251228    I        Value Type\n",
      "0   0.136711    E\n",
      "1  -2.707186    I\n",
      "2  -0.716860    I\n",
      "3   0.338888    E\n",
      "4   1.458857    E\n",
      "5   0.304993    E\n",
      "6  -0.251228    I\n",
      "7  -0.554455    I\n",
      "8   0.841443    E\n",
      "9   0.089473    E\n",
      "10 -0.059021    I\n",
      "11  0.863612    E\n",
      "12 -1.096005    I\n",
      "13 -2.172274    I\n",
      "14 -1.310170    I\n",
      "15  0.245906    E\n",
      "16 -0.870629    I\n",
      "17  2.354784    E\n",
      "18  1.591296    E\n",
      "19 -0.430547    I\n"
     ]
    }
   ],
   "source": [
    "\n",
    "import torch\n",
    "import torch.optim as optim\n",
    "import torch.nn as nn\n",
    "import numpy as np\n",
    "import math\n",
    "import matplotlib.pyplot as plt\n",
    "import pandas as pd\n",
    "#df = pd.DataFrame({'value':np.series(torch.randn(1,),index=list(range(10)),\n",
    "                # 'Type':'E')})\n",
    "ze = pd.DataFrame({'Value': np.absolute(np.array(np.random.normal(0, 1, 10))),\n",
    "                    'Type': 'E'})    \n",
    "\n",
    "\n",
    "zi = pd.DataFrame({'Value': -np.absolute(np.array(np.random.normal(0, 1, 10))),\n",
    "                    'Type': 'I'})    \n",
    "\n",
    "zf = pd.concat([ze, zi])\n",
    "ze = zf.sample(frac=1).reset_index(drop=True)\n",
    "\n",
    "\n",
    "    \n",
    "\n",
    "print (zf,ze)"
   ]
  },
  {
   "cell_type": "code",
   "execution_count": 26,
   "metadata": {},
   "outputs": [
    {
     "name": "stdout",
     "output_type": "stream",
     "text": [
      "[-2.49183218 -2.19528405  0.68307422]\n"
     ]
    }
   ],
   "source": [
    "print (np.random.normal(0, 1, 3))"
   ]
  }
 ],
 "metadata": {
  "kernelspec": {
   "display_name": "Python 3",
   "language": "python",
   "name": "python3"
  },
  "language_info": {
   "codemirror_mode": {
    "name": "ipython",
    "version": 3
   },
   "file_extension": ".py",
   "mimetype": "text/x-python",
   "name": "python",
   "nbconvert_exporter": "python",
   "pygments_lexer": "ipython3",
   "version": "3.7.1"
  }
 },
 "nbformat": 4,
 "nbformat_minor": 2
}
