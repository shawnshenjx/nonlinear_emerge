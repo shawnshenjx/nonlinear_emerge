{
 "cells": [
  {
   "cell_type": "code",
   "execution_count": 4,
   "metadata": {},
   "outputs": [
    {
     "name": "stdout",
     "output_type": "stream",
     "text": [
      "tensor([[ 0.8029, -0.6699, -0.1700,  ..., -0.0433, -1.4886, -0.1865],\n",
      "        [-0.8493, -0.0651,  0.4086,  ..., -0.1795,  1.1102,  0.7785],\n",
      "        [-0.2787,  1.0385,  0.6402,  ..., -0.1842,  0.3667,  0.1403],\n",
      "        ...,\n",
      "        [ 0.4937, -0.1712,  0.2920,  ..., -0.2407, -0.6229, -0.3796],\n",
      "        [-0.5795, -0.5091,  0.8453,  ...,  1.4616,  1.9830, -0.9512],\n",
      "        [ 0.1796, -0.0411,  0.2489,  ...,  1.5031, -1.2817,  0.1812]]) tensor([[-0.8913,  1.0964, -0.0369,  ..., -0.0433, -1.4886, -0.1865],\n",
      "        [ 0.8814, -0.5027, -0.2025,  ..., -0.1795,  1.1102,  0.7785],\n",
      "        [ 1.7195, -0.1491, -1.8256,  ..., -0.1842,  0.3667,  0.1403],\n",
      "        ...,\n",
      "        [-0.4509,  0.0026,  0.4164,  ..., -0.2407, -0.6229, -0.3796],\n",
      "        [ 0.4068,  0.6256, -1.3491,  ...,  1.4616,  1.9830, -0.9512],\n",
      "        [-0.3111,  1.0551, -1.3861,  ...,  1.5031, -1.2817,  0.1812]])\n"
     ]
    }
   ],
   "source": [
    "import torch \n",
    "a = torch.randn(50, 80) #tensor of size 50 x 80\n",
    "b = torch.split(a, 40, dim=1) # it returns a tuple\n",
    "b = list(b)[1] \n",
    "print (a,b)"
   ]
  }
 ],
 "metadata": {
  "kernelspec": {
   "display_name": "Python 3",
   "language": "python",
   "name": "python3"
  },
  "language_info": {
   "codemirror_mode": {
    "name": "ipython",
    "version": 3
   },
   "file_extension": ".py",
   "mimetype": "text/x-python",
   "name": "python",
   "nbconvert_exporter": "python",
   "pygments_lexer": "ipython3",
   "version": "3.7.1"
  }
 },
 "nbformat": 4,
 "nbformat_minor": 2
}
