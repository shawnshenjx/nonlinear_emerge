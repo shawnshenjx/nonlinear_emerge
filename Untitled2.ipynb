{
 "cells": [
  {
   "cell_type": "code",
   "execution_count": 1,
   "metadata": {},
   "outputs": [
    {
     "name": "stdout",
     "output_type": "stream",
     "text": [
      "tensor([[1.0321, 0.4787, 0.5360, 0.7531, 0.5868, 1.0160],\n",
      "        [1.0197, 0.4334, 1.2297, 0.5873, 0.1043, 1.6618],\n",
      "        [0.3723, 0.3105, 0.7540, 1.4913, 0.7507, 0.3663],\n",
      "        [0.4072, 0.3465, 0.5090, 0.4186, 0.8155, 0.1731],\n",
      "        [0.1667, 0.7009, 0.3322, 0.6909, 0.1413, 0.9006],\n",
      "        [1.2711, 1.0798, 1.6944, 0.1764, 1.6833, 0.9425]],\n",
      "       grad_fn=<SoftplusBackward>) tensor([[ 1.,  0.,  0.,  0.,  0.,  0.],\n",
      "        [ 0.,  1.,  0.,  0.,  0.,  0.],\n",
      "        [ 0.,  0.,  1.,  0.,  0.,  0.],\n",
      "        [ 0.,  0.,  0., -1.,  0.,  0.],\n",
      "        [ 0.,  0.,  0.,  0., -1.,  0.],\n",
      "        [ 0.,  0.,  0.,  0.,  0., -1.]])\n",
      "tensor([[ 1.0321,  0.4787,  0.5360, -0.7531, -0.5868, -1.0160],\n",
      "        [ 1.0197,  0.4334,  1.2297, -0.5873, -0.1043, -1.6618],\n",
      "        [ 0.3723,  0.3105,  0.7540, -1.4913, -0.7507, -0.3663],\n",
      "        [ 0.4072,  0.3465,  0.5090, -0.4186, -0.8155, -0.1731],\n",
      "        [ 0.1667,  0.7009,  0.3322, -0.6909, -0.1413, -0.9006],\n",
      "        [ 1.2711,  1.0798,  1.6944, -0.1764, -1.6833, -0.9425]],\n",
      "       grad_fn=<MmBackward>)\n"
     ]
    }
   ],
   "source": [
    "import torch.nn.functional as F\n",
    "import torch\n",
    "import torch.optim as optim\n",
    "import torch.nn as nn\n",
    "import numpy as np\n",
    "import math\n",
    "import matplotlib.pyplot as plt\n",
    "import pandas as pd\n",
    "n=6\n",
    "w=torch.randn(n,n, device='cpu', requires_grad=True,dtype=torch.float)\n",
    "# w_split1=torch.split(w,3)[0]\n",
    "# w_split2=torch.split(w,3)[1]\n",
    "# w_reshape1=w_split1.view(6,3)\n",
    "# w_reshape2=w_split2.view(6,3)\n",
    "# w1_softplus =F.softplus(w_reshape1)\n",
    "# w2_softplus =F.softplus(w_reshape2)\n",
    "# w_softplus=torch.cat((w1_softplus,w2_softplus),0)\n",
    "# w_reshape=w_softplus.view(6,6)\n",
    "# #w_relu=torch.relu(w)\n",
    "\n",
    "\n",
    "# print (w_softplus,w_reshape)\n",
    "\n",
    "transform=torch.tensor([1,1,1,-1,-1,-1],dtype=torch.float)\n",
    "Transform=torch.diag(transform)\n",
    "w_softplus=F.softplus(w)\n",
    "print (w_softplus,Transform)\n",
    "wi=w_softplus@Transform\n",
    "print (wi)"
   ]
  },
  {
   "cell_type": "code",
   "execution_count": 2,
   "metadata": {},
   "outputs": [
    {
     "name": "stdout",
     "output_type": "stream",
     "text": [
      "torch.Size([3, 1, 3])\n"
     ]
    }
   ],
   "source": [
    "x = torch.rand(1,3,3)\n",
    "y= torch.rand(3,3)\n",
    "z = torch.rand(3,1,3)\n",
    "a=z@y\n",
    "print (a.size())"
   ]
  },
  {
   "cell_type": "code",
   "execution_count": 12,
   "metadata": {},
   "outputs": [
    {
     "name": "stdout",
     "output_type": "stream",
     "text": [
      "torch.Size([2, 1, 6])\n"
     ]
    }
   ],
   "source": [
    "m=2\n",
    "n=6\n",
    " \n",
    "Tr1=torch.ones(int(math.ceil(n/2)),dtype=torch.float)\n",
    "Tr2=torch.ones(int(round(n/2)),dtype=torch.float)\n",
    "Tr=torch.cat((Tr1,-Tr2),0)\n",
    "Transform=torch.diag(Tr)\n",
    "z1=torch.randn(m,1,n)\n",
    "z_softplus=F.softplus(z1)\n",
    "z=z_softplus@Transform\n",
    "\n",
    "\n",
    "print (z.size())\n"
   ]
  },
  {
   "cell_type": "code",
   "execution_count": 17,
   "metadata": {},
   "outputs": [
    {
     "name": "stdout",
     "output_type": "stream",
     "text": [
      "tensor([[[[-1.4733,  0.5261,  0.4252,  1.1209,  0.4000,  0.1772]],\n",
      "\n",
      "         [[-0.5828,  0.1283, -0.4264,  0.5266,  1.4753,  0.5945]]],\n",
      "\n",
      "\n",
      "        [[[ 0.1379, -1.6914,  0.3041,  0.6350, -0.2307, -0.0052]],\n",
      "\n",
      "         [[-0.1914,  0.2400,  0.3432,  0.9110,  1.0356,  1.7595]]],\n",
      "\n",
      "\n",
      "        [[[ 0.1255, -0.1951, -1.4032,  1.3849, -0.9954, -0.2821]],\n",
      "\n",
      "         [[-1.6882,  0.2255,  1.4085, -1.8474,  1.9803,  0.6495]]]]) tensor([[[ 0.5261],\n",
      "         [ 0.1283]],\n",
      "\n",
      "        [[-1.6914],\n",
      "         [ 0.2400]],\n",
      "\n",
      "        [[-0.1951],\n",
      "         [ 0.2255]]]) tensor([[[ 0.1379, -1.6914,  0.3041,  0.6350, -0.2307, -0.0052]],\n",
      "\n",
      "        [[-0.1914,  0.2400,  0.3432,  0.9110,  1.0356,  1.7595]]]) tensor(0.6405)\n"
     ]
    }
   ],
   "source": [
    "T=3\n",
    "\n",
    "Z=torch.randn(T,m,1,n)\n",
    "a=Z[:,:,:,1]\n",
    "b=Z[1]\n",
    "c=torch.var(a)\n",
    "print (Z,a,b,c)\n"
   ]
  },
  {
   "cell_type": "code",
   "execution_count": null,
   "metadata": {},
   "outputs": [],
   "source": []
  }
 ],
 "metadata": {
  "kernelspec": {
   "display_name": "Python 3",
   "language": "python",
   "name": "python3"
  },
  "language_info": {
   "codemirror_mode": {
    "name": "ipython",
    "version": 3
   },
   "file_extension": ".py",
   "mimetype": "text/x-python",
   "name": "python",
   "nbconvert_exporter": "python",
   "pygments_lexer": "ipython3",
   "version": "3.7.1"
  }
 },
 "nbformat": 4,
 "nbformat_minor": 2
}
